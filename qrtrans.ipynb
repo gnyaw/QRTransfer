{
 "cells": [
  {
   "cell_type": "code",
   "execution_count": 39,
   "metadata": {},
   "outputs": [
    {
     "name": "stdout",
     "output_type": "stream",
     "text": [
      "estimate time: 65.225 sec => 0h1m5.224999999999994s\n",
      "len(contents) 2609 buffersize 32 transnum: 81\n"
     ]
    }
   ],
   "source": [
    "import qrcode\n",
    "import numpy as np\n",
    "import matplotlib.pyplot as plt\n",
    "\n",
    "import cv2\n",
    "\n",
    "filename = \"qrreceiv.ipynb\"\n",
    "with open(filename, \"r\", encoding=\"utf_8\") as f:\n",
    "    contents = f.read()\n",
    "\n",
    "buffersize = 32\n",
    "speed = 800\n",
    "\n",
    "def show_estimate():\n",
    "    estimate_time = (len(contents)/buffersize * speed) / 1000\n",
    "    sec = estimate_time\n",
    "    hour = int(sec/3600)\n",
    "    min = int((sec-hour*3600)/60)\n",
    "    sec = sec-min*60-hour*3600\n",
    "    print(\"estimate time:\", estimate_time, \"sec\", \"=>\", f\"{hour}h{min}m{sec}s\")\n",
    "    print(\"len(contents)\", len(contents), \"buffersize\", buffersize, \"transnum:\", int(len(contents)/buffersize))\n",
    "\n",
    "show_estimate()\n"
   ]
  },
  {
   "cell_type": "code",
   "execution_count": 40,
   "metadata": {},
   "outputs": [],
   "source": [
    "break_flag = False\n",
    "while not break_flag:\n",
    "    for transnum, i in enumerate(range(0, len(contents), buffersize)):\n",
    "        content = contents[i:i+buffersize]\n",
    "        out = filename + \":\"\n",
    "        out += str(transnum) + \"/\" + str(int(len(contents)/buffersize)) + \":\"\n",
    "        out += str(i)+\"-\"+str(i+len(content)) + \"/\" + str(len(contents)) + \":\\n\"\n",
    "        out += content\n",
    "        #print(out)\n",
    "        i += 1\n",
    "        pil = qrcode.make(out)\n",
    "        pil.save(\"test.png\")\n",
    "        cv = cv2.imread('test.png')\n",
    "        cv2.imshow('tr', cv)\n",
    "        key = cv2.waitKey(speed)\n",
    "        if key == 27: # ESCキー\n",
    "            break_flag = True\n",
    "            break\n",
    "        elif key & 0xFF == ord('u'):\n",
    "            speed += 100\n",
    "            print(\"speed:\", speed)\n",
    "            show_estimate()\n",
    "        elif key & 0xFF == ord('d'):\n",
    "            speed -= 100\n",
    "            print(\"speed:\", speed)\n",
    "            show_estimate()\n",
    "        elif key & 0xFF == ord('o'):\n",
    "            buffersize -= 2\n",
    "            print(\"buffersize:\", buffersize)\n",
    "            show_estimate()\n",
    "        elif key & 0xFF == ord('l'):\n",
    "            buffersize += 2\n",
    "            print(\"buffersize:\", buffersize)\n",
    "            show_estimate()\n",
    "            \n",
    "\n",
    "\n",
    "\n",
    "cv2.destroyAllWindows()"
   ]
  },
  {
   "cell_type": "code",
   "execution_count": null,
   "metadata": {},
   "outputs": [],
   "source": []
  }
 ],
 "metadata": {
  "interpreter": {
   "hash": "fcf1d46d271c46101d6967829d4a5f475342a2ce08e4944f989fbcdc9bb23690"
  },
  "kernelspec": {
   "display_name": "Python 3.9.5 64-bit",
   "language": "python",
   "name": "python3"
  },
  "language_info": {
   "codemirror_mode": {
    "name": "ipython",
    "version": 3
   },
   "file_extension": ".py",
   "mimetype": "text/x-python",
   "name": "python",
   "nbconvert_exporter": "python",
   "pygments_lexer": "ipython3",
   "version": "3.9.5"
  },
  "orig_nbformat": 4
 },
 "nbformat": 4,
 "nbformat_minor": 2
}
