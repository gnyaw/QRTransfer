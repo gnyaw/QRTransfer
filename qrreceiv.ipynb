{
 "cells": [
  {
   "cell_type": "code",
   "execution_count": 2,
   "metadata": {},
   "outputs": [],
   "source": [
    "import cv2\n",
    "import numpy as np\n",
    "\n",
    "\n",
    "# -----------------------------------------------------------\n",
    "# Init\n",
    "# -----------------------------------------------------------\n",
    "font = cv2.FONT_HERSHEY_SIMPLEX\n",
    "\n",
    "# -----------------------------------------------------------\n",
    "# 画像キャプチャ\n",
    "# -----------------------------------------------------------\n",
    "# VideoCaptureインスタンス生成\n",
    "cap = cv2.VideoCapture(0, cv2.CAP_DSHOW)\n",
    "\n",
    "# QRCodeDetectorインスタンス生成\n",
    "qrd = cv2.QRCodeDetector()\n",
    "\n",
    "while cap.isOpened():\n",
    "    ret, frame = cap.read()\n",
    "\n",
    "    if ret:\n",
    "        # QRコードデコード\n",
    "        retval, decoded_info, points, straight_qrcode = qrd.detectAndDecodeMulti(frame)\n",
    "\n",
    "        if retval:\n",
    "            points = points.astype(np.int32)\n",
    "\n",
    "            for dec_inf, point in zip(decoded_info, points):\n",
    "                if dec_inf == '':\n",
    "                    continue\n",
    "\n",
    "                # QRコード座標取得\n",
    "                x = point[0][0]\n",
    "                y = point[0][1]\n",
    "\n",
    "                # QRコードデータ\n",
    "                #print('dec:', dec_inf)\n",
    "                frame = cv2.putText(frame, dec_inf, (x, y - 6), font, .3, (0, 0, 255), 1, cv2.LINE_AA)\n",
    "\n",
    "                # バウンディングボックス\n",
    "                frame = cv2.polylines(frame, [point], True, (0, 255, 0), 1, cv2.LINE_AA)\n",
    "\n",
    "        # 画像表示\n",
    "        cv2.imshow('rc', frame)\n",
    "\n",
    "    # quit\n",
    "    key = cv2.waitKey(1)\n",
    "    if key & 0xFF == ord('q'):\n",
    "        break\n",
    "    if key == 27: #esc\n",
    "        break\n",
    "\n",
    "# キャプチャリソースリリース\n",
    "cap.release()\n",
    "cv2.destroyAllWindows()\n"
   ]
  }
 ],
 "metadata": {
  "interpreter": {
   "hash": "fcf1d46d271c46101d6967829d4a5f475342a2ce08e4944f989fbcdc9bb23690"
  },
  "kernelspec": {
   "display_name": "Python 3.9.5 64-bit",
   "language": "python",
   "name": "python3"
  },
  "language_info": {
   "codemirror_mode": {
    "name": "ipython",
    "version": 3
   },
   "file_extension": ".py",
   "mimetype": "text/x-python",
   "name": "python",
   "nbconvert_exporter": "python",
   "pygments_lexer": "ipython3",
   "version": "3.9.5"
  },
  "orig_nbformat": 4
 },
 "nbformat": 4,
 "nbformat_minor": 2
}
